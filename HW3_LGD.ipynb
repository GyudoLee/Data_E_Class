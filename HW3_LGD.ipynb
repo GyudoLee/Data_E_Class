{
 "cells": [
  {
   "cell_type": "code",
   "execution_count": 305,
   "id": "ae83588f",
   "metadata": {},
   "outputs": [],
   "source": [
    "import numpy as np"
   ]
  },
  {
   "cell_type": "code",
   "execution_count": 306,
   "id": "13d973ce",
   "metadata": {},
   "outputs": [],
   "source": [
    "hairstyles = [\"bouffant\" , \"pixie\" , \"dreadlocks\" , \"crew\" , \n",
    "                      \"bowl\" , \"bob\" , \"mohawk\" , \"flattop\"]"
   ]
  },
  {
   "cell_type": "code",
   "execution_count": 307,
   "id": "f4bbf10f",
   "metadata": {},
   "outputs": [],
   "source": [
    "prices = [30, 25, 40, 20, 20, 35, 50, 35]"
   ]
  },
  {
   "cell_type": "code",
   "execution_count": 308,
   "id": "15f1f73d",
   "metadata": {},
   "outputs": [],
   "source": [
    "last_week = [2, 3, 5, 8, 4, 4, 6, 2]"
   ]
  },
  {
   "cell_type": "code",
   "execution_count": 309,
   "id": "55aff7f7",
   "metadata": {},
   "outputs": [],
   "source": [
    "# 1\n",
    "total_price = 0 "
   ]
  },
  {
   "cell_type": "code",
   "execution_count": 310,
   "id": "93599bc2",
   "metadata": {},
   "outputs": [],
   "source": [
    "# 2~3\n",
    "for i in range(8) :\n",
    "    total_price += prices[i] # +=\n",
    "average_price = total_price / len(prices) # using the len() function"
   ]
  },
  {
   "cell_type": "code",
   "execution_count": 311,
   "id": "b91aa3b4",
   "metadata": {},
   "outputs": [
    {
     "name": "stdout",
     "output_type": "stream",
     "text": [
      "Average price is 31.875\n"
     ]
    }
   ],
   "source": [
    "# 4\n",
    "\n",
    "print(\"Average price is\" , average_price)"
   ]
  },
  {
   "cell_type": "code",
   "execution_count": 312,
   "id": "457cf7dc",
   "metadata": {},
   "outputs": [],
   "source": [
    "# 5\n",
    "new_prices = [prices - 5 for prices in prices] # for ~ in ~"
   ]
  },
  {
   "cell_type": "code",
   "execution_count": 313,
   "id": "949a3609",
   "metadata": {},
   "outputs": [
    {
     "name": "stdout",
     "output_type": "stream",
     "text": [
      "[25, 20, 35, 15, 15, 30, 45, 30]\n"
     ]
    }
   ],
   "source": [
    "# 6\n",
    "print(new_prices)"
   ]
  },
  {
   "cell_type": "code",
   "execution_count": 314,
   "id": "6940c5d1",
   "metadata": {},
   "outputs": [],
   "source": [
    "# 7\n",
    "total_revenue = 0"
   ]
  },
  {
   "cell_type": "code",
   "execution_count": 315,
   "id": "8f7f9767",
   "metadata": {},
   "outputs": [],
   "source": [
    "# 8 ~ 9\n",
    "for i in range(0, len(hairstyles)) :\n",
    "    total_revenue += prices[i] * last_week[i]"
   ]
  },
  {
   "cell_type": "code",
   "execution_count": 316,
   "id": "d35a8dfa",
   "metadata": {},
   "outputs": [
    {
     "name": "stdout",
     "output_type": "stream",
     "text": [
      "1085\n"
     ]
    }
   ],
   "source": [
    "# 10\n",
    "print(total_revenue)"
   ]
  },
  {
   "cell_type": "code",
   "execution_count": 317,
   "id": "39811831",
   "metadata": {},
   "outputs": [
    {
     "name": "stdout",
     "output_type": "stream",
     "text": [
      "Average daily revenue is  155.0\n"
     ]
    }
   ],
   "source": [
    "# 11\n",
    "average_daily_revenue = total_revenue / 7\n",
    "print(\"Average daily revenue is \" , average_daily_revenue)"
   ]
  },
  {
   "cell_type": "code",
   "execution_count": 318,
   "id": "22d83db8",
   "metadata": {},
   "outputs": [],
   "source": [
    "# 12\n",
    "# Carly thinks she can bring in more customers by advertising all of the haircuts she has that are under 30 dollars. \n",
    "# Use a list comprehension to create a list called cuts_under_30 that has the entry hairstyles[i] for each i for which new_prices[i] is less than 30. \n",
    "# You can use range() in your list comprehension to make i go from 0 to len(new_prices) - 1."
   ]
  },
  {
   "cell_type": "code",
   "execution_count": 319,
   "id": "da325e16",
   "metadata": {},
   "outputs": [],
   "source": [
    "# 12\n",
    "cuts_under_30 = [hairstyles[i] for i in range(0 , len(new_prices) - 1) \n",
    "                        if new_prices[i] < 30]"
   ]
  },
  {
   "cell_type": "code",
   "execution_count": 320,
   "id": "5fdf49de",
   "metadata": {},
   "outputs": [
    {
     "name": "stdout",
     "output_type": "stream",
     "text": [
      "['bouffant', 'pixie', 'crew', 'bowl']\n"
     ]
    }
   ],
   "source": [
    "# 13\n",
    "print(cuts_under_30)"
   ]
  },
  {
   "cell_type": "code",
   "execution_count": null,
   "id": "08641576",
   "metadata": {},
   "outputs": [],
   "source": []
  },
  {
   "cell_type": "code",
   "execution_count": null,
   "id": "17ba0171",
   "metadata": {},
   "outputs": [],
   "source": []
  }
 ],
 "metadata": {
  "kernelspec": {
   "display_name": "Python 3 (ipykernel)",
   "language": "python",
   "name": "python3"
  },
  "language_info": {
   "codemirror_mode": {
    "name": "ipython",
    "version": 3
   },
   "file_extension": ".py",
   "mimetype": "text/x-python",
   "name": "python",
   "nbconvert_exporter": "python",
   "pygments_lexer": "ipython3",
   "version": "3.9.7"
  }
 },
 "nbformat": 4,
 "nbformat_minor": 5
}
