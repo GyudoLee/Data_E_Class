{
 "cells": [
  {
   "cell_type": "code",
   "execution_count": 7,
   "id": "601dcae9",
   "metadata": {},
   "outputs": [],
   "source": [
    "# 1~2\n",
    "lovely_loveseat_description = \"Lovely Loveseat. Tufted polyester blend on wood. 32 inches high x 40 inches deep. Red or white.\"\n",
    "lovely_loveseat_price = 254.00"
   ]
  },
  {
   "cell_type": "code",
   "execution_count": 8,
   "id": "6f56cb82",
   "metadata": {},
   "outputs": [],
   "source": [
    "# 3~4\n",
    "stylish_settee_description = \"Stylish Settee. Faux leather on birch. 29.50 inches high x 54.75 inches wide x 28 inches deep. Black.\"\n",
    "stylish_settee_price = 180.50"
   ]
  },
  {
   "cell_type": "code",
   "execution_count": 58,
   "id": "8bdf2270",
   "metadata": {},
   "outputs": [],
   "source": [
    "# 5~6\n",
    "luxurious_lamp_description = \"Luxurious Lamp. Glass and iron. 36 inches tall. Brown with cream shade.\"\n",
    "luxurious_lamp_price = 52.15"
   ]
  },
  {
   "cell_type": "code",
   "execution_count": 10,
   "id": "330b932a",
   "metadata": {},
   "outputs": [],
   "source": [
    "# 7\n",
    "sales_tax = .088"
   ]
  },
  {
   "cell_type": "code",
   "execution_count": 11,
   "id": "fc335ac1",
   "metadata": {},
   "outputs": [],
   "source": [
    "# 8~9\n",
    "customer_one_total = 0\n",
    "customer_one_itemization = \" \""
   ]
  },
  {
   "cell_type": "code",
   "execution_count": 17,
   "id": "f1610d9d",
   "metadata": {},
   "outputs": [],
   "source": [
    "# 10\n",
    "customer_one_total = customer_one_total + lovely_loveseat_price"
   ]
  },
  {
   "cell_type": "code",
   "execution_count": 15,
   "id": "9ad7dc91",
   "metadata": {},
   "outputs": [],
   "source": [
    "# 11\n",
    "customer_one_itemization = lovely_loveseat_description"
   ]
  },
  {
   "cell_type": "code",
   "execution_count": 34,
   "id": "1aa312bb",
   "metadata": {},
   "outputs": [],
   "source": [
    "# 12\n",
    "customer_one_total = (lovely_loveseat_price + luxurious_lamp_price)"
   ]
  },
  {
   "cell_type": "code",
   "execution_count": 35,
   "id": "99c924d0",
   "metadata": {
    "scrolled": true
   },
   "outputs": [],
   "source": [
    "# 13\n",
    "customer_one_itemization = lovely_loveseat_description + luxurious_lamp_description"
   ]
  },
  {
   "cell_type": "code",
   "execution_count": 39,
   "id": "d26d9e58",
   "metadata": {},
   "outputs": [],
   "source": [
    "# 14\n",
    "customer_one_tax = customer_one_total * sales_tax"
   ]
  },
  {
   "cell_type": "code",
   "execution_count": 41,
   "id": "1717e98e",
   "metadata": {},
   "outputs": [],
   "source": [
    "# 15\n",
    "customer_one_total = customer_one_total + customer_one_tax"
   ]
  },
  {
   "cell_type": "code",
   "execution_count": 57,
   "id": "36b7c5bb",
   "metadata": {},
   "outputs": [
    {
     "name": "stdout",
     "output_type": "stream",
     "text": [
      "Customer One Items : \n",
      "Lovely Loveseat. Tufted polyester blend on wood. 32 inches high x 40 inches deep. Red or white.Luxurious Lamp. Glass and iron. 36 inches tall. Brown with cream shade.\n",
      "Customer One Total : \n",
      "333.09119999999996\n"
     ]
    }
   ],
   "source": [
    "# 16 ~ 20\n",
    "print(\"Customer One Items : \")\n",
    "print(customer_one_itemization)\n",
    "print(\"Customer One Total : \")\n",
    "print(customer_one_total)"
   ]
  },
  {
   "cell_type": "code",
   "execution_count": null,
   "id": "f0d00152",
   "metadata": {},
   "outputs": [],
   "source": []
  }
 ],
 "metadata": {
  "kernelspec": {
   "display_name": "Python 3 (ipykernel)",
   "language": "python",
   "name": "python3"
  },
  "language_info": {
   "codemirror_mode": {
    "name": "ipython",
    "version": 3
   },
   "file_extension": ".py",
   "mimetype": "text/x-python",
   "name": "python",
   "nbconvert_exporter": "python",
   "pygments_lexer": "ipython3",
   "version": "3.9.7"
  }
 },
 "nbformat": 4,
 "nbformat_minor": 5
}
