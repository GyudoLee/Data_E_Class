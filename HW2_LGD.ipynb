{
 "cells": [
  {
   "cell_type": "code",
   "execution_count": 1,
   "id": "93f6991f",
   "metadata": {},
   "outputs": [
    {
     "data": {
      "text/plain": [
       "[['physics', 98], ['calculus', 97], ['poetry', 85], ['history', 88]]"
      ]
     },
     "execution_count": 1,
     "metadata": {},
     "output_type": "execute_result"
    }
   ],
   "source": [
    "# 1\n",
    "subjects = [\"physics\" , \"calculus\" , \"poetry\" , \"history\"] \n",
    "# 2\n",
    "grades = [98 , 97,  85 , 88]\n",
    "# 3\n",
    "gradebook = [[\"physics\", 98] , [\"calculus\" , 97] , [\"poetry\" , 85] , [\"history\" , 88]]\n",
    "# 4\n",
    "gradebook"
   ]
  },
  {
   "cell_type": "code",
   "execution_count": 2,
   "id": "27818abe",
   "metadata": {},
   "outputs": [],
   "source": [
    "# 5 ~ 6\n",
    "gradebook.append([\"computer science\" , 100])\n",
    "gradebook.append([\"visual arts\" , 93])"
   ]
  },
  {
   "cell_type": "code",
   "execution_count": 3,
   "id": "d2039b16",
   "metadata": {},
   "outputs": [
    {
     "name": "stdout",
     "output_type": "stream",
     "text": [
      "[['physics', 98], ['calculus', 97], ['poetry', 85], ['history', 88], ['computer science', 100], ['visual arts', 93]]\n"
     ]
    }
   ],
   "source": [
    "print(gradebook)"
   ]
  },
  {
   "cell_type": "code",
   "execution_count": 4,
   "id": "e96dcb3d",
   "metadata": {},
   "outputs": [
    {
     "name": "stdout",
     "output_type": "stream",
     "text": [
      "[['physics', 98], ['calculus', 97], ['poetry', 85], ['history', 88], ['computer science', 100], ['visual arts', 98]]\n"
     ]
    }
   ],
   "source": [
    "# 7\n",
    "gradebook[5][1] = 98\n",
    "print(gradebook)"
   ]
  },
  {
   "cell_type": "code",
   "execution_count": 17,
   "id": "57aab896",
   "metadata": {},
   "outputs": [
    {
     "name": "stdout",
     "output_type": "stream",
     "text": [
      "[['physics', 98], ['calculus', 97], ['poetry'], ['history', 88], ['computer science', 100], ['visual arts', 98]]\n"
     ]
    }
   ],
   "source": [
    "# 8\n",
    "# del 사용하면 안되는건가요?\n",
    "# del(gradebook[2][1])\n",
    "# print(gradebook)\n",
    "gradebook[2].remove(85)\n",
    "print(gradebook) \n",
    "# gradebook 리스트 안에 2번째 있는 리스트의 85삭제"
   ]
  },
  {
   "cell_type": "code",
   "execution_count": 19,
   "id": "79696383",
   "metadata": {},
   "outputs": [
    {
     "name": "stdout",
     "output_type": "stream",
     "text": [
      "[['physics', 98], ['calculus', 97], ['poetry', 'pass'], ['history', 88], ['computer science', 100], ['visual arts', 98]]\n"
     ]
    }
   ],
   "source": [
    "# 9\n",
    "# insert 사용하면 안되는건가요??\n",
    "# gradebook.insert([2][1] , \"pass\")\n",
    "# print(gradebook)\n",
    "\n",
    "gradebook[2].append(\"pass\")\n",
    "print(gradebook)"
   ]
  },
  {
   "cell_type": "code",
   "execution_count": 23,
   "id": "42e0f074",
   "metadata": {},
   "outputs": [
    {
     "name": "stdout",
     "output_type": "stream",
     "text": [
      "[['politics', 80], ['latin', 96], ['dance', 97], ['architecture', 65], ['physics', 98], ['calculus', 97], ['poetry', 'pass'], ['history', 88], ['computer science', 100], ['visual arts', 98]]\n"
     ]
    }
   ],
   "source": [
    "# 10\n",
    "last_semester_gradebook = [[\"politics\", 80], [\"latin\", 96], [\"dance\", 97], [\"architecture\", 65]]\n",
    "\n",
    "full_gradebook = last_semester_gradebook + gradebook\n",
    "print(full_gradebook)"
   ]
  }
 ],
 "metadata": {
  "kernelspec": {
   "display_name": "Python 3 (ipykernel)",
   "language": "python",
   "name": "python3"
  },
  "language_info": {
   "codemirror_mode": {
    "name": "ipython",
    "version": 3
   },
   "file_extension": ".py",
   "mimetype": "text/x-python",
   "name": "python",
   "nbconvert_exporter": "python",
   "pygments_lexer": "ipython3",
   "version": "3.9.7"
  }
 },
 "nbformat": 4,
 "nbformat_minor": 5
}
